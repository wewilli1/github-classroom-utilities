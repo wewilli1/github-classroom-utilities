{
 "cells": [
  {
   "cell_type": "code",
   "execution_count": 5,
   "metadata": {},
   "outputs": [],
   "source": [
    "import numpy as np\n",
    "import pandas as pd"
   ]
  },
  {
   "cell_type": "code",
   "execution_count": 8,
   "metadata": {},
   "outputs": [],
   "source": [
    "def day(d,Tue_emailfilename,Thurs_emailfilename,Tue_logfilename,Thurs_logfilename):  \n",
    "    absent = []\n",
    "    cross_attendance = []     \n",
    "    if d == 'Tuesday':\n",
    "        df = pd.read_csv(Tue_emailfilename)\n",
    "        other_df = pd.read_csv(Thurs_emailfilename)\n",
    "        tue_log_df = pd.read_csv(Tue_logfilename)\n",
    "        tue_log_df['Duration (Minutes)'].astype(int)\n",
    "        log_df = pd.DataFrame(tue_log_df.groupby('User Email')['Duration (Minutes)'].sum())\n",
    "        log_df.reset_index(level=0, inplace=True)\n",
    "                       \n",
    "    elif d == 'Thursday':\n",
    "        df = pd.read_csv(Thurs_emailfilename)\n",
    "        other_df = pd.read_csv(Tue_emailfilename)\n",
    "        thurs_log_df = pd.read_csv(Thurs_logfilename)\n",
    "        thurs_log_df['Duration (Minutes)'].astype(int)\n",
    "        log_df = pd.DataFrame(thurs_log_df.groupby('User Email')['Duration (Minutes)'].sum())\n",
    "        log_df.reset_index(level=0, inplace=True)\n",
    "        \n",
    "    for i in df['Email ID']:\n",
    "            \n",
    "        if (len(log_df[log_df['User Email'] == i]) > 0) and (log_df[log_df['User Email'] == i]['Duration (Minutes)'] > 60).iloc[0]:\n",
    "            continue\n",
    "        else:           \n",
    "            absent.append(i)\n",
    "    \n",
    "    for i in other_df['Email ID']:\n",
    "        if (len(log_df[log_df['User Email'] == i]) > 0) and (log_df[log_df['User Email'] == i]['Duration (Minutes)'] > 60).iloc[0]:\n",
    "            cross_attendance.append(i)\n",
    "        else:           \n",
    "            continue\n",
    "            \n",
    "    return print(\"Absent:\",absent), print(\"Cross Attendance:\",cross_attendance)\n",
    "                       \n",
    "                       "
   ]
  },
  {
   "cell_type": "code",
   "execution_count": 11,
   "metadata": {},
   "outputs": [
    {
     "name": "stdout",
     "output_type": "stream",
     "text": [
      "Absent: ['jchen257@syr.edu', 'rsparlin@syr.edu', 'zzhang@syr.edu']\n",
      "Cross Attendance: ['ryadlapa@syr.edu']\n"
     ]
    },
    {
     "data": {
      "text/plain": [
       "(None, None)"
      ]
     },
     "execution_count": 11,
     "metadata": {},
     "output_type": "execute_result"
    }
   ],
   "source": [
    "day('Thursday',\"Tuesday_emailfile.csv\",\"Thursday_emailfile.csv\",\"tuesday_20200825.csv\",\"thursday_20200827.csv\")"
   ]
  },
  {
   "cell_type": "code",
   "execution_count": null,
   "metadata": {},
   "outputs": [],
   "source": []
  }
 ],
 "metadata": {
  "kernelspec": {
   "display_name": "Python 3",
   "language": "python",
   "name": "python3"
  },
  "language_info": {
   "codemirror_mode": {
    "name": "ipython",
    "version": 3
   },
   "file_extension": ".py",
   "mimetype": "text/x-python",
   "name": "python",
   "nbconvert_exporter": "python",
   "pygments_lexer": "ipython3",
   "version": "3.8.5"
  }
 },
 "nbformat": 4,
 "nbformat_minor": 4
}
